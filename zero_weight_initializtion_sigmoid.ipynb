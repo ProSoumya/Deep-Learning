{
 "cells": [
  {
   "cell_type": "code",
   "execution_count": 13,
   "metadata": {},
   "outputs": [],
   "source": [
    "import pandas as pd\n",
    "from sklearn.datasets import make_blobs\n",
    "import tensorflow as tf\n",
    "from keras import Sequential\n",
    "from keras.layers import Dense\n",
    "import numpy as np\n",
    "from mlxtend.plotting import plot_decision_regions\n"
   ]
  },
  {
   "cell_type": "code",
   "execution_count": 2,
   "metadata": {},
   "outputs": [],
   "source": [
    "X, y = make_blobs(n_samples=1000,n_features=2,centers=2)\n",
    "df = pd.DataFrame(dict(x= X[:,0], y= X[:,1],labels=y))"
   ]
  },
  {
   "cell_type": "code",
   "execution_count": 3,
   "metadata": {},
   "outputs": [
    {
     "data": {
      "text/html": [
       "<div>\n",
       "<style scoped>\n",
       "    .dataframe tbody tr th:only-of-type {\n",
       "        vertical-align: middle;\n",
       "    }\n",
       "\n",
       "    .dataframe tbody tr th {\n",
       "        vertical-align: top;\n",
       "    }\n",
       "\n",
       "    .dataframe thead th {\n",
       "        text-align: right;\n",
       "    }\n",
       "</style>\n",
       "<table border=\"1\" class=\"dataframe\">\n",
       "  <thead>\n",
       "    <tr style=\"text-align: right;\">\n",
       "      <th></th>\n",
       "      <th>x</th>\n",
       "      <th>y</th>\n",
       "      <th>labels</th>\n",
       "    </tr>\n",
       "  </thead>\n",
       "  <tbody>\n",
       "    <tr>\n",
       "      <th>0</th>\n",
       "      <td>4.117915</td>\n",
       "      <td>-6.735390</td>\n",
       "      <td>1</td>\n",
       "    </tr>\n",
       "    <tr>\n",
       "      <th>1</th>\n",
       "      <td>-4.802999</td>\n",
       "      <td>3.164849</td>\n",
       "      <td>0</td>\n",
       "    </tr>\n",
       "    <tr>\n",
       "      <th>2</th>\n",
       "      <td>6.623929</td>\n",
       "      <td>-8.579113</td>\n",
       "      <td>1</td>\n",
       "    </tr>\n",
       "    <tr>\n",
       "      <th>3</th>\n",
       "      <td>-6.244687</td>\n",
       "      <td>2.211291</td>\n",
       "      <td>0</td>\n",
       "    </tr>\n",
       "    <tr>\n",
       "      <th>4</th>\n",
       "      <td>7.290673</td>\n",
       "      <td>-7.808085</td>\n",
       "      <td>1</td>\n",
       "    </tr>\n",
       "    <tr>\n",
       "      <th>...</th>\n",
       "      <td>...</td>\n",
       "      <td>...</td>\n",
       "      <td>...</td>\n",
       "    </tr>\n",
       "    <tr>\n",
       "      <th>995</th>\n",
       "      <td>-5.708330</td>\n",
       "      <td>2.515039</td>\n",
       "      <td>0</td>\n",
       "    </tr>\n",
       "    <tr>\n",
       "      <th>996</th>\n",
       "      <td>-5.103254</td>\n",
       "      <td>1.519977</td>\n",
       "      <td>0</td>\n",
       "    </tr>\n",
       "    <tr>\n",
       "      <th>997</th>\n",
       "      <td>5.247665</td>\n",
       "      <td>-7.892694</td>\n",
       "      <td>1</td>\n",
       "    </tr>\n",
       "    <tr>\n",
       "      <th>998</th>\n",
       "      <td>-6.099876</td>\n",
       "      <td>1.056119</td>\n",
       "      <td>0</td>\n",
       "    </tr>\n",
       "    <tr>\n",
       "      <th>999</th>\n",
       "      <td>6.052549</td>\n",
       "      <td>-7.845214</td>\n",
       "      <td>1</td>\n",
       "    </tr>\n",
       "  </tbody>\n",
       "</table>\n",
       "<p>1000 rows × 3 columns</p>\n",
       "</div>"
      ],
      "text/plain": [
       "            x         y  labels\n",
       "0    4.117915 -6.735390       1\n",
       "1   -4.802999  3.164849       0\n",
       "2    6.623929 -8.579113       1\n",
       "3   -6.244687  2.211291       0\n",
       "4    7.290673 -7.808085       1\n",
       "..        ...       ...     ...\n",
       "995 -5.708330  2.515039       0\n",
       "996 -5.103254  1.519977       0\n",
       "997  5.247665 -7.892694       1\n",
       "998 -6.099876  1.056119       0\n",
       "999  6.052549 -7.845214       1\n",
       "\n",
       "[1000 rows x 3 columns]"
      ]
     },
     "execution_count": 3,
     "metadata": {},
     "output_type": "execute_result"
    }
   ],
   "source": [
    "df"
   ]
  },
  {
   "cell_type": "code",
   "execution_count": 4,
   "metadata": {},
   "outputs": [
    {
     "name": "stdout",
     "output_type": "stream",
     "text": [
      "Model: \"sequential\"\n",
      "_________________________________________________________________\n",
      " Layer (type)                Output Shape              Param #   \n",
      "=================================================================\n",
      " dense (Dense)               (None, 2)                 6         \n",
      "                                                                 \n",
      " dense_1 (Dense)             (None, 1)                 3         \n",
      "                                                                 \n",
      "=================================================================\n",
      "Total params: 9\n",
      "Trainable params: 9\n",
      "Non-trainable params: 0\n",
      "_________________________________________________________________\n"
     ]
    }
   ],
   "source": [
    "model = Sequential()\n",
    "model.add(Dense(2,activation=\"sigmoid\",input_dim=2))\n",
    "model.add(Dense(1,activation=\"sigmoid\"))\n",
    "\n",
    "model.summary()"
   ]
  },
  {
   "cell_type": "code",
   "execution_count": 5,
   "metadata": {},
   "outputs": [],
   "source": [
    "initial_weights = model.get_weights()"
   ]
  },
  {
   "cell_type": "code",
   "execution_count": 6,
   "metadata": {},
   "outputs": [],
   "source": [
    "initial_weights[0] = np.zeros(model.get_weights()[0].shape)\n",
    "initial_weights[1] = np.zeros(model.get_weights()[1].shape)\n",
    "initial_weights[2] = np.zeros(model.get_weights()[2].shape)\n",
    "initial_weights[3] = np.zeros(model.get_weights()[3].shape)\n",
    "\n"
   ]
  },
  {
   "cell_type": "code",
   "execution_count": 7,
   "metadata": {},
   "outputs": [],
   "source": [
    "model.set_weights(initial_weights)"
   ]
  },
  {
   "cell_type": "code",
   "execution_count": 8,
   "metadata": {},
   "outputs": [
    {
     "data": {
      "text/plain": [
       "[array([[0., 0.],\n",
       "        [0., 0.]], dtype=float32),\n",
       " array([0., 0.], dtype=float32),\n",
       " array([[0.],\n",
       "        [0.]], dtype=float32),\n",
       " array([0.], dtype=float32)]"
      ]
     },
     "execution_count": 8,
     "metadata": {},
     "output_type": "execute_result"
    }
   ],
   "source": [
    "model.get_weights()"
   ]
  },
  {
   "cell_type": "code",
   "execution_count": 11,
   "metadata": {},
   "outputs": [
    {
     "name": "stdout",
     "output_type": "stream",
     "text": [
      "Epoch 1/100\n",
      "25/25 [==============================] - 2s 7ms/step - loss: 0.6932 - accuracy: 0.4888 - val_loss: 0.6931 - val_accuracy: 0.4850\n",
      "Epoch 2/100\n",
      "25/25 [==============================] - 0s 4ms/step - loss: 0.6926 - accuracy: 0.5038 - val_loss: 0.6918 - val_accuracy: 0.4850\n",
      "Epoch 3/100\n",
      "25/25 [==============================] - 0s 5ms/step - loss: 0.6887 - accuracy: 0.5038 - val_loss: 0.6859 - val_accuracy: 0.4850\n",
      "Epoch 4/100\n",
      "25/25 [==============================] - 0s 3ms/step - loss: 0.6794 - accuracy: 0.5038 - val_loss: 0.6744 - val_accuracy: 0.4850\n",
      "Epoch 5/100\n",
      "25/25 [==============================] - 0s 3ms/step - loss: 0.6661 - accuracy: 0.5038 - val_loss: 0.6601 - val_accuracy: 0.4850\n",
      "Epoch 6/100\n",
      "25/25 [==============================] - 0s 3ms/step - loss: 0.6508 - accuracy: 0.5038 - val_loss: 0.6451 - val_accuracy: 0.4850\n",
      "Epoch 7/100\n",
      "25/25 [==============================] - 0s 3ms/step - loss: 0.6353 - accuracy: 0.5038 - val_loss: 0.6301 - val_accuracy: 0.4850\n",
      "Epoch 8/100\n",
      "25/25 [==============================] - 0s 3ms/step - loss: 0.6201 - accuracy: 0.5400 - val_loss: 0.6157 - val_accuracy: 0.6150\n",
      "Epoch 9/100\n",
      "25/25 [==============================] - 0s 3ms/step - loss: 0.6057 - accuracy: 0.7300 - val_loss: 0.6020 - val_accuracy: 0.8550\n",
      "Epoch 10/100\n",
      "25/25 [==============================] - 0s 3ms/step - loss: 0.5920 - accuracy: 0.9000 - val_loss: 0.5889 - val_accuracy: 0.9350\n",
      "Epoch 11/100\n",
      "25/25 [==============================] - 0s 3ms/step - loss: 0.5791 - accuracy: 0.9663 - val_loss: 0.5764 - val_accuracy: 0.9700\n",
      "Epoch 12/100\n",
      "25/25 [==============================] - 0s 3ms/step - loss: 0.5667 - accuracy: 0.9962 - val_loss: 0.5645 - val_accuracy: 0.9850\n",
      "Epoch 13/100\n",
      "25/25 [==============================] - 0s 3ms/step - loss: 0.5549 - accuracy: 1.0000 - val_loss: 0.5532 - val_accuracy: 0.9900\n",
      "Epoch 14/100\n",
      "25/25 [==============================] - 0s 3ms/step - loss: 0.5436 - accuracy: 1.0000 - val_loss: 0.5423 - val_accuracy: 1.0000\n",
      "Epoch 15/100\n",
      "25/25 [==============================] - 0s 3ms/step - loss: 0.5328 - accuracy: 1.0000 - val_loss: 0.5318 - val_accuracy: 1.0000\n",
      "Epoch 16/100\n",
      "25/25 [==============================] - 0s 3ms/step - loss: 0.5224 - accuracy: 1.0000 - val_loss: 0.5216 - val_accuracy: 1.0000\n",
      "Epoch 17/100\n",
      "25/25 [==============================] - 0s 3ms/step - loss: 0.5124 - accuracy: 1.0000 - val_loss: 0.5119 - val_accuracy: 1.0000\n",
      "Epoch 18/100\n",
      "25/25 [==============================] - 0s 3ms/step - loss: 0.5027 - accuracy: 1.0000 - val_loss: 0.5024 - val_accuracy: 1.0000\n",
      "Epoch 19/100\n",
      "25/25 [==============================] - 0s 3ms/step - loss: 0.4934 - accuracy: 1.0000 - val_loss: 0.4932 - val_accuracy: 1.0000\n",
      "Epoch 20/100\n",
      "25/25 [==============================] - 0s 3ms/step - loss: 0.4843 - accuracy: 1.0000 - val_loss: 0.4843 - val_accuracy: 1.0000\n",
      "Epoch 21/100\n",
      "25/25 [==============================] - 0s 3ms/step - loss: 0.4755 - accuracy: 1.0000 - val_loss: 0.4756 - val_accuracy: 1.0000\n",
      "Epoch 22/100\n",
      "25/25 [==============================] - 0s 3ms/step - loss: 0.4669 - accuracy: 1.0000 - val_loss: 0.4672 - val_accuracy: 1.0000\n",
      "Epoch 23/100\n",
      "25/25 [==============================] - 0s 3ms/step - loss: 0.4586 - accuracy: 1.0000 - val_loss: 0.4589 - val_accuracy: 1.0000\n",
      "Epoch 24/100\n",
      "25/25 [==============================] - 0s 3ms/step - loss: 0.4505 - accuracy: 1.0000 - val_loss: 0.4509 - val_accuracy: 1.0000\n",
      "Epoch 25/100\n",
      "25/25 [==============================] - 0s 3ms/step - loss: 0.4426 - accuracy: 1.0000 - val_loss: 0.4431 - val_accuracy: 1.0000\n",
      "Epoch 26/100\n",
      "25/25 [==============================] - 0s 3ms/step - loss: 0.4349 - accuracy: 1.0000 - val_loss: 0.4355 - val_accuracy: 1.0000\n",
      "Epoch 27/100\n",
      "25/25 [==============================] - 0s 3ms/step - loss: 0.4273 - accuracy: 1.0000 - val_loss: 0.4280 - val_accuracy: 1.0000\n",
      "Epoch 28/100\n",
      "25/25 [==============================] - 0s 3ms/step - loss: 0.4200 - accuracy: 1.0000 - val_loss: 0.4207 - val_accuracy: 1.0000\n",
      "Epoch 29/100\n",
      "25/25 [==============================] - 0s 3ms/step - loss: 0.4128 - accuracy: 1.0000 - val_loss: 0.4136 - val_accuracy: 1.0000\n",
      "Epoch 30/100\n",
      "25/25 [==============================] - 0s 4ms/step - loss: 0.4058 - accuracy: 1.0000 - val_loss: 0.4066 - val_accuracy: 1.0000\n",
      "Epoch 31/100\n",
      "25/25 [==============================] - 0s 3ms/step - loss: 0.3990 - accuracy: 1.0000 - val_loss: 0.3999 - val_accuracy: 1.0000\n",
      "Epoch 32/100\n",
      "25/25 [==============================] - 0s 3ms/step - loss: 0.3923 - accuracy: 1.0000 - val_loss: 0.3932 - val_accuracy: 1.0000\n",
      "Epoch 33/100\n",
      "25/25 [==============================] - 0s 3ms/step - loss: 0.3858 - accuracy: 1.0000 - val_loss: 0.3867 - val_accuracy: 1.0000\n",
      "Epoch 34/100\n",
      "25/25 [==============================] - 0s 3ms/step - loss: 0.3794 - accuracy: 1.0000 - val_loss: 0.3804 - val_accuracy: 1.0000\n",
      "Epoch 35/100\n",
      "25/25 [==============================] - 0s 3ms/step - loss: 0.3731 - accuracy: 1.0000 - val_loss: 0.3741 - val_accuracy: 1.0000\n",
      "Epoch 36/100\n",
      "25/25 [==============================] - 0s 3ms/step - loss: 0.3670 - accuracy: 1.0000 - val_loss: 0.3681 - val_accuracy: 1.0000\n",
      "Epoch 37/100\n",
      "25/25 [==============================] - 0s 3ms/step - loss: 0.3610 - accuracy: 1.0000 - val_loss: 0.3620 - val_accuracy: 1.0000\n",
      "Epoch 38/100\n",
      "25/25 [==============================] - 0s 3ms/step - loss: 0.3552 - accuracy: 1.0000 - val_loss: 0.3562 - val_accuracy: 1.0000\n",
      "Epoch 39/100\n",
      "25/25 [==============================] - 0s 3ms/step - loss: 0.3494 - accuracy: 1.0000 - val_loss: 0.3505 - val_accuracy: 1.0000\n",
      "Epoch 40/100\n",
      "25/25 [==============================] - 0s 3ms/step - loss: 0.3438 - accuracy: 1.0000 - val_loss: 0.3448 - val_accuracy: 1.0000\n",
      "Epoch 41/100\n",
      "25/25 [==============================] - 0s 3ms/step - loss: 0.3383 - accuracy: 1.0000 - val_loss: 0.3394 - val_accuracy: 1.0000\n",
      "Epoch 42/100\n",
      "25/25 [==============================] - 0s 3ms/step - loss: 0.3329 - accuracy: 1.0000 - val_loss: 0.3340 - val_accuracy: 1.0000\n",
      "Epoch 43/100\n",
      "25/25 [==============================] - 0s 3ms/step - loss: 0.3276 - accuracy: 1.0000 - val_loss: 0.3287 - val_accuracy: 1.0000\n",
      "Epoch 44/100\n",
      "25/25 [==============================] - 0s 3ms/step - loss: 0.3224 - accuracy: 1.0000 - val_loss: 0.3235 - val_accuracy: 1.0000\n",
      "Epoch 45/100\n",
      "25/25 [==============================] - 0s 3ms/step - loss: 0.3173 - accuracy: 1.0000 - val_loss: 0.3184 - val_accuracy: 1.0000\n",
      "Epoch 46/100\n",
      "25/25 [==============================] - 0s 3ms/step - loss: 0.3123 - accuracy: 1.0000 - val_loss: 0.3134 - val_accuracy: 1.0000\n",
      "Epoch 47/100\n",
      "25/25 [==============================] - 0s 3ms/step - loss: 0.3074 - accuracy: 1.0000 - val_loss: 0.3085 - val_accuracy: 1.0000\n",
      "Epoch 48/100\n",
      "25/25 [==============================] - 0s 3ms/step - loss: 0.3026 - accuracy: 1.0000 - val_loss: 0.3038 - val_accuracy: 1.0000\n",
      "Epoch 49/100\n",
      "25/25 [==============================] - 0s 3ms/step - loss: 0.2979 - accuracy: 1.0000 - val_loss: 0.2990 - val_accuracy: 1.0000\n",
      "Epoch 50/100\n",
      "25/25 [==============================] - 0s 3ms/step - loss: 0.2933 - accuracy: 1.0000 - val_loss: 0.2944 - val_accuracy: 1.0000\n",
      "Epoch 51/100\n",
      "25/25 [==============================] - 0s 3ms/step - loss: 0.2888 - accuracy: 1.0000 - val_loss: 0.2899 - val_accuracy: 1.0000\n",
      "Epoch 52/100\n",
      "25/25 [==============================] - 0s 3ms/step - loss: 0.2844 - accuracy: 1.0000 - val_loss: 0.2855 - val_accuracy: 1.0000\n",
      "Epoch 53/100\n",
      "25/25 [==============================] - 0s 3ms/step - loss: 0.2800 - accuracy: 1.0000 - val_loss: 0.2811 - val_accuracy: 1.0000\n",
      "Epoch 54/100\n",
      "25/25 [==============================] - 0s 3ms/step - loss: 0.2757 - accuracy: 1.0000 - val_loss: 0.2768 - val_accuracy: 1.0000\n",
      "Epoch 55/100\n",
      "25/25 [==============================] - 0s 3ms/step - loss: 0.2715 - accuracy: 1.0000 - val_loss: 0.2726 - val_accuracy: 1.0000\n",
      "Epoch 56/100\n",
      "25/25 [==============================] - 0s 3ms/step - loss: 0.2674 - accuracy: 1.0000 - val_loss: 0.2685 - val_accuracy: 1.0000\n",
      "Epoch 57/100\n",
      "25/25 [==============================] - 0s 3ms/step - loss: 0.2634 - accuracy: 1.0000 - val_loss: 0.2645 - val_accuracy: 1.0000\n",
      "Epoch 58/100\n",
      "25/25 [==============================] - 0s 3ms/step - loss: 0.2595 - accuracy: 1.0000 - val_loss: 0.2605 - val_accuracy: 1.0000\n",
      "Epoch 59/100\n",
      "25/25 [==============================] - 0s 3ms/step - loss: 0.2556 - accuracy: 1.0000 - val_loss: 0.2566 - val_accuracy: 1.0000\n",
      "Epoch 60/100\n",
      "25/25 [==============================] - 0s 3ms/step - loss: 0.2517 - accuracy: 1.0000 - val_loss: 0.2528 - val_accuracy: 1.0000\n",
      "Epoch 61/100\n",
      "25/25 [==============================] - 0s 3ms/step - loss: 0.2480 - accuracy: 1.0000 - val_loss: 0.2491 - val_accuracy: 1.0000\n",
      "Epoch 62/100\n",
      "25/25 [==============================] - 0s 3ms/step - loss: 0.2443 - accuracy: 1.0000 - val_loss: 0.2454 - val_accuracy: 1.0000\n",
      "Epoch 63/100\n",
      "25/25 [==============================] - 0s 3ms/step - loss: 0.2407 - accuracy: 1.0000 - val_loss: 0.2417 - val_accuracy: 1.0000\n",
      "Epoch 64/100\n",
      "25/25 [==============================] - 0s 3ms/step - loss: 0.2372 - accuracy: 1.0000 - val_loss: 0.2382 - val_accuracy: 1.0000\n",
      "Epoch 65/100\n",
      "25/25 [==============================] - 0s 3ms/step - loss: 0.2337 - accuracy: 1.0000 - val_loss: 0.2347 - val_accuracy: 1.0000\n",
      "Epoch 66/100\n",
      "25/25 [==============================] - 0s 3ms/step - loss: 0.2303 - accuracy: 1.0000 - val_loss: 0.2313 - val_accuracy: 1.0000\n",
      "Epoch 67/100\n",
      "25/25 [==============================] - 0s 3ms/step - loss: 0.2269 - accuracy: 1.0000 - val_loss: 0.2279 - val_accuracy: 1.0000\n",
      "Epoch 68/100\n",
      "25/25 [==============================] - 0s 3ms/step - loss: 0.2236 - accuracy: 1.0000 - val_loss: 0.2246 - val_accuracy: 1.0000\n",
      "Epoch 69/100\n",
      "25/25 [==============================] - 0s 3ms/step - loss: 0.2204 - accuracy: 1.0000 - val_loss: 0.2214 - val_accuracy: 1.0000\n",
      "Epoch 70/100\n",
      "25/25 [==============================] - 0s 3ms/step - loss: 0.2172 - accuracy: 1.0000 - val_loss: 0.2182 - val_accuracy: 1.0000\n",
      "Epoch 71/100\n",
      "25/25 [==============================] - 0s 3ms/step - loss: 0.2141 - accuracy: 1.0000 - val_loss: 0.2151 - val_accuracy: 1.0000\n",
      "Epoch 72/100\n",
      "25/25 [==============================] - 0s 3ms/step - loss: 0.2111 - accuracy: 1.0000 - val_loss: 0.2120 - val_accuracy: 1.0000\n",
      "Epoch 73/100\n",
      "25/25 [==============================] - 0s 3ms/step - loss: 0.2080 - accuracy: 1.0000 - val_loss: 0.2090 - val_accuracy: 1.0000\n",
      "Epoch 74/100\n",
      "25/25 [==============================] - 0s 3ms/step - loss: 0.2051 - accuracy: 1.0000 - val_loss: 0.2061 - val_accuracy: 1.0000\n",
      "Epoch 75/100\n",
      "25/25 [==============================] - 0s 3ms/step - loss: 0.2022 - accuracy: 1.0000 - val_loss: 0.2031 - val_accuracy: 1.0000\n",
      "Epoch 76/100\n",
      "25/25 [==============================] - 0s 3ms/step - loss: 0.1993 - accuracy: 1.0000 - val_loss: 0.2002 - val_accuracy: 1.0000\n",
      "Epoch 77/100\n",
      "25/25 [==============================] - 0s 3ms/step - loss: 0.1965 - accuracy: 1.0000 - val_loss: 0.1974 - val_accuracy: 1.0000\n",
      "Epoch 78/100\n",
      "25/25 [==============================] - 0s 3ms/step - loss: 0.1937 - accuracy: 1.0000 - val_loss: 0.1947 - val_accuracy: 1.0000\n",
      "Epoch 79/100\n",
      "25/25 [==============================] - 0s 3ms/step - loss: 0.1910 - accuracy: 1.0000 - val_loss: 0.1919 - val_accuracy: 1.0000\n",
      "Epoch 80/100\n",
      "25/25 [==============================] - 0s 3ms/step - loss: 0.1884 - accuracy: 1.0000 - val_loss: 0.1893 - val_accuracy: 1.0000\n",
      "Epoch 81/100\n",
      "25/25 [==============================] - 0s 3ms/step - loss: 0.1857 - accuracy: 1.0000 - val_loss: 0.1866 - val_accuracy: 1.0000\n",
      "Epoch 82/100\n",
      "25/25 [==============================] - 0s 3ms/step - loss: 0.1832 - accuracy: 1.0000 - val_loss: 0.1841 - val_accuracy: 1.0000\n",
      "Epoch 83/100\n",
      "25/25 [==============================] - 0s 3ms/step - loss: 0.1806 - accuracy: 1.0000 - val_loss: 0.1815 - val_accuracy: 1.0000\n",
      "Epoch 84/100\n",
      "25/25 [==============================] - 0s 3ms/step - loss: 0.1781 - accuracy: 1.0000 - val_loss: 0.1790 - val_accuracy: 1.0000\n",
      "Epoch 85/100\n",
      "25/25 [==============================] - 0s 3ms/step - loss: 0.1757 - accuracy: 1.0000 - val_loss: 0.1766 - val_accuracy: 1.0000\n",
      "Epoch 86/100\n",
      "25/25 [==============================] - 0s 3ms/step - loss: 0.1733 - accuracy: 1.0000 - val_loss: 0.1741 - val_accuracy: 1.0000\n",
      "Epoch 87/100\n",
      "25/25 [==============================] - 0s 3ms/step - loss: 0.1709 - accuracy: 1.0000 - val_loss: 0.1717 - val_accuracy: 1.0000\n",
      "Epoch 88/100\n",
      "25/25 [==============================] - 0s 3ms/step - loss: 0.1686 - accuracy: 1.0000 - val_loss: 0.1694 - val_accuracy: 1.0000\n",
      "Epoch 89/100\n",
      "25/25 [==============================] - 0s 3ms/step - loss: 0.1663 - accuracy: 1.0000 - val_loss: 0.1671 - val_accuracy: 1.0000\n",
      "Epoch 90/100\n",
      "25/25 [==============================] - 0s 3ms/step - loss: 0.1640 - accuracy: 1.0000 - val_loss: 0.1648 - val_accuracy: 1.0000\n",
      "Epoch 91/100\n",
      "25/25 [==============================] - 0s 3ms/step - loss: 0.1618 - accuracy: 1.0000 - val_loss: 0.1626 - val_accuracy: 1.0000\n",
      "Epoch 92/100\n",
      "25/25 [==============================] - 0s 3ms/step - loss: 0.1596 - accuracy: 1.0000 - val_loss: 0.1604 - val_accuracy: 1.0000\n",
      "Epoch 93/100\n",
      "25/25 [==============================] - 0s 3ms/step - loss: 0.1575 - accuracy: 1.0000 - val_loss: 0.1583 - val_accuracy: 1.0000\n",
      "Epoch 94/100\n",
      "25/25 [==============================] - 0s 3ms/step - loss: 0.1554 - accuracy: 1.0000 - val_loss: 0.1562 - val_accuracy: 1.0000\n",
      "Epoch 95/100\n",
      "25/25 [==============================] - 0s 2ms/step - loss: 0.1533 - accuracy: 1.0000 - val_loss: 0.1541 - val_accuracy: 1.0000\n",
      "Epoch 96/100\n",
      "25/25 [==============================] - 0s 3ms/step - loss: 0.1512 - accuracy: 1.0000 - val_loss: 0.1520 - val_accuracy: 1.0000\n",
      "Epoch 97/100\n",
      "25/25 [==============================] - 0s 3ms/step - loss: 0.1492 - accuracy: 1.0000 - val_loss: 0.1500 - val_accuracy: 1.0000\n",
      "Epoch 98/100\n",
      "25/25 [==============================] - 0s 3ms/step - loss: 0.1472 - accuracy: 1.0000 - val_loss: 0.1480 - val_accuracy: 1.0000\n",
      "Epoch 99/100\n",
      "25/25 [==============================] - 0s 2ms/step - loss: 0.1453 - accuracy: 1.0000 - val_loss: 0.1461 - val_accuracy: 1.0000\n",
      "Epoch 100/100\n",
      "25/25 [==============================] - 0s 2ms/step - loss: 0.1434 - accuracy: 1.0000 - val_loss: 0.1441 - val_accuracy: 1.0000\n"
     ]
    }
   ],
   "source": [
    "model.compile(loss=\"binary_crossentropy\",optimizer='adam',metrics=[\"accuracy\"])\n",
    "history = model.fit(X,y,epochs=100,validation_split=0.2)"
   ]
  },
  {
   "cell_type": "code",
   "execution_count": 14,
   "metadata": {},
   "outputs": [
    {
     "data": {
      "text/plain": [
       "[array([[ 0.9407008,  0.9407008],\n",
       "        [-0.7987341, -0.7987341]], dtype=float32),\n",
       " array([-1.1539639, -1.1539639], dtype=float32),\n",
       " array([[1.927687],\n",
       "        [1.927687]], dtype=float32),\n",
       " array([-1.5827514], dtype=float32)]"
      ]
     },
     "execution_count": 14,
     "metadata": {},
     "output_type": "execute_result"
    }
   ],
   "source": [
    "model.get_weights()"
   ]
  },
  {
   "cell_type": "code",
   "execution_count": 15,
   "metadata": {},
   "outputs": [
    {
     "data": {
      "text/plain": [
       "<AxesSubplot:>"
      ]
     },
     "execution_count": 15,
     "metadata": {},
     "output_type": "execute_result"
    },
    {
     "data": {
      "image/png": "[encoded data removed]",
      "text/plain": [
       "<Figure size 432x288 with 1 Axes>"
      ]
     },
     "metadata": {
      "needs_background": "light"
     },
     "output_type": "display_data"
    }
   ],
   "source": [
    "plot_decision_regions(X,y.astype('int'),clf=model,legend=2)"
   ]
  },
  {
   "cell_type": "code",
   "execution_count": null,
   "metadata": {},
   "outputs": [],
   "source": []
  }
 ],
 "metadata": {
  "kernelspec": {
   "display_name": "Python 3.8.12 ('Deeplearning')",
   "language": "python",
   "name": "python3"
  },
  "language_info": {
   "codemirror_mode": {
    "name": "ipython",
    "version": 3
   },
   "file_extension": ".py",
   "mimetype": "text/x-python",
   "name": "python",
   "nbconvert_exporter": "python",
   "pygments_lexer": "ipython3",
   "version": "3.8.12"
  },
  "orig_nbformat": 4,
  "vscode": {
   "interpreter": {
    "hash": "d4db3d47a59552fcbe4dea865778cf426b035f018cc9040d4b9dcfb285018ea5"
   }
  }
 },
 "nbformat": 4,
 "nbformat_minor": 2
}
